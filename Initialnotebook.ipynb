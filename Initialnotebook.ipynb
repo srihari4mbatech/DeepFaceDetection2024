{
 "cells": [
  {
   "cell_type": "markdown",
   "metadata": {},
   "source": [
    "#### Base understanding of ISB Hackathon 2024\n",
    "Problem Statement:\n",
    "\n",
    "\n",
    "Some of the papers about DeepFake detection:\n",
    "- [DeepFake Detection by Analyzing Convolutional Traces](https://openaccess.thecvf.com/content_CVPRW_2020/html/w39/Guarnera_DeepFake_Detection_by_Analyzing_Convolutional_Traces_CVPRW_2020_paper.html)\n",
    "- [Deep learning model for deep fake face recognition and detection](https://peerj.com/articles/cs-881/#fig-6)\n",
    "- [DeepFakes: a New Threat to Face Recognition? Assessment and Detection](https://arxiv.org/abs/1812.08685)\n",
    "- [On the Detection of Digital Face Manipulation](https://openaccess.thecvf.com/content_CVPR_2020/html/Dang_On_the_Detection_of_Digital_Face_Manipulation_CVPR_2020_paper.html)\n",
    "- [Detecting CNN-generated facial images in real-world scenarios](https://openaccess.thecvf.com/content_CVPRW_2020/html/w39/Hulzebosch_Detecting_CNN-Generated_Facial_Images_in_Real-World_Scenarios_CVPRW_2020_paper.html)\n",
    "- [FSSPOTTER: Spotting Face-Swapped Video by Spatial and Temporal Clues](https://ieeexplore.ieee.org/abstract/document/9102914)\n",
    "- [DLFMNet: End-to-End Detection and Localization of Face Manipulation Using Multi-Domain Features]()\n",
    "\n"
   ]
  },
  {
   "cell_type": "code",
   "execution_count": null,
   "metadata": {},
   "outputs": [],
   "source": []
  }
 ],
 "metadata": {
  "language_info": {
   "name": "python"
  }
 },
 "nbformat": 4,
 "nbformat_minor": 2
}
